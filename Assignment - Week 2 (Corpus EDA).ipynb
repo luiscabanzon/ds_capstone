{
 "cells": [
  {
   "cell_type": "markdown",
   "metadata": {},
   "source": [
    "# Libraries import & Data loading\n",
    "For this EDA exercise, we will use the following libraries and load the corpus."
   ]
  },
  {
   "cell_type": "code",
   "execution_count": 1,
   "metadata": {
    "collapsed": true
   },
   "outputs": [],
   "source": [
    "import nltk\n",
    "from nltk import word_tokenize\n",
    "from nltk.corpus import stopwords\n",
    "from nltk.util import ngrams\n",
    "from collections import Counter\n",
    "import re\n",
    "from random import sample, seed\n",
    "from datetime import datetime\n",
    "from matplotlib import pyplot as plt\n",
    "import pandas as pd\n",
    "%matplotlib inline\n",
    "seed(123)"
   ]
  },
  {
   "cell_type": "code",
   "execution_count": 11,
   "metadata": {
    "collapsed": true
   },
   "outputs": [],
   "source": [
    "with open(r'../en_US/en_us.blogs.txt', 'r', encoding='utf8') as f:\n",
    "    blogs = f.read().splitlines()\n",
    "with open(r'../en_US/en_us.news.txt', 'r', encoding='utf8') as f:\n",
    "    news = f.read().splitlines()\n",
    "with open(r'../en_US/en_us.twitter.txt', 'r', encoding='utf8') as f:\n",
    "    twitter = f.read().splitlines()"
   ]
  },
  {
   "cell_type": "code",
   "execution_count": 15,
   "metadata": {},
   "outputs": [
    {
     "name": "stdout",
     "output_type": "stream",
     "text": [
      "Blogs file contains 899288 lines, and 37334131 words\n",
      "News file contains 1010245 lines, and 34372531 words\n",
      "Twitter file contains 2360150 lines, and 30373583 words\n"
     ]
    }
   ],
   "source": [
    "print(\"Blogs file contains %s lines, and %s words\" % (len(blogs), sum([len(text.split()) for text in blogs])))\n",
    "print(\"News file contains %s lines, and %s words\" % (len(news), sum([len(text.split()) for text in news])))\n",
    "print(\"Twitter file contains %s lines, and %s words\" % (len(twitter), sum([len(text.split()) for text in twitter])))"
   ]
  },
  {
   "cell_type": "markdown",
   "metadata": {},
   "source": [
    " As the corpus is significative big (above 4 Million records) here we are going to work with a sample of 20,000 records, extracted randomly from the 3 corpi. Note that we have add a random seed in the beginning (in case the reader wants to reproduce this analysis with the same sample)."
   ]
  },
  {
   "cell_type": "code",
   "execution_count": 3,
   "metadata": {
    "collapsed": true
   },
   "outputs": [],
   "source": [
    "data = blogs + news + twitter\n",
    "blogs = news = twitter = None\n",
    "sample_size = 20000\n",
    "data = sample(data, sample_size)"
   ]
  },
  {
   "cell_type": "markdown",
   "metadata": {},
   "source": [
    "# Data preprocessing\n",
    "\n",
    "In order to analyse this corpus we are going to do the following:\n",
    "1. Cleanup the text (removing any punctiation).\n",
    "2. Generate n-grams (unigrams, bigrams and trigrams).\n",
    "3. Tag the different words syntactically."
   ]
  },
  {
   "cell_type": "code",
   "execution_count": 4,
   "metadata": {
    "collapsed": true
   },
   "outputs": [],
   "source": [
    "# Define cleanup function (using reges to only keep words)\n",
    "def cleanup(corpus):\n",
    "    return [re.sub(r'[^\\w\\s\\n]','',c).replace(r'\\\\n', '').lower() for c in corpus]\n",
    "# Apply cleanup\n",
    "data = cleanup(data)"
   ]
  },
  {
   "cell_type": "code",
   "execution_count": 5,
   "metadata": {},
   "outputs": [
    {
     "name": "stdout",
     "output_type": "stream",
     "text": [
      "Documents processed: 0 / 20000 (0.334205 seconds)\n",
      "Documents processed: 5000 / 20000 (75.87442 seconds)\n",
      "Documents processed: 10000 / 20000 (220.759362 seconds)\n",
      "Documents processed: 15000 / 20000 (431.999503 seconds)\n"
     ]
    }
   ],
   "source": [
    "# Create counters to store n-grams\n",
    "bigrams = Counter([])\n",
    "trigrams = Counter([])\n",
    "data_len = len(data)\n",
    "start = datetime.now()\n",
    "postags = Counter([])\n",
    "\n",
    "# Generate n-grams\n",
    "for i, text in enumerate(data):\n",
    "    token = nltk.word_tokenize(text)\n",
    "    _bigrams = ngrams(token, 2)\n",
    "    _trigrams = ngrams(token, 3)\n",
    "    bigrams += Counter(_bigrams)\n",
    "    trigrams += Counter(_trigrams)\n",
    "    postags += Counter(nltk.pos_tag(token))\n",
    "    if i % 5000 == 0:\n",
    "        print(\"Documents processed: %s / %s (%s seconds)\" % (i, sample_size, (datetime.now() - start).total_seconds()))\n",
    "unigrams = Counter(' '.join(data).split())"
   ]
  },
  {
   "cell_type": "markdown",
   "metadata": {},
   "source": [
    "# Vocabulary analysis\n",
    "Let's answer 3 questions:\n",
    "1. How many words to are needed to cover **95% of the vocabulary** in the corpus sample?\n",
    "2. What's the percentage of **stop words** (high frequent words with few meaning) in the corpus sample?\n",
    "3. What's the distribution of **lexical categories** in the sample vocabulary?\n",
    "\n",
    "For that we will need each word frequency (retrieved below) and the post-tagging done before."
   ]
  },
  {
   "cell_type": "code",
   "execution_count": 7,
   "metadata": {
    "collapsed": true
   },
   "outputs": [],
   "source": [
    "word_frequency = [[k,v] for k, v in unigrams.items()]\n",
    "word_frequency = sorted(word_frequency, key=lambda x: x[1], reverse=True)"
   ]
  },
  {
   "cell_type": "code",
   "execution_count": 8,
   "metadata": {},
   "outputs": [
    {
     "data": {
      "image/png": "[encoded data removed]",
      "text/plain": [
       "<matplotlib.figure.Figure at 0x143fbc88>"
      ]
     },
     "metadata": {},
     "output_type": "display_data"
    },
    {
     "name": "stdout",
     "output_type": "stream",
     "text": [
      "21989 words represent the 95.00% of the total vocabulary in the sample (20206698 words)\n"
     ]
    }
   ],
   "source": [
    "plt.plot([w[1] for w in word_frequency[:30000]])\n",
    "plt.title(\"Word Frequency\")\n",
    "plt.show()\n",
    "n = 0\n",
    "corpus_size = sum([w[1] for w in word_frequency])\n",
    "# Here we are adding words until it's frequency reachers the 95% of the corpus size\n",
    "for i, w in enumerate(word_frequency):\n",
    "    n += w[1]\n",
    "    if n/corpus_size >= 0.95:\n",
    "        print(\"%s words represent the %.2f%% of the total vocabulary in the sample (%s words)\" % (i+1, n/corpus_size*100, corpus_size))\n",
    "        break"
   ]
  },
  {
   "cell_type": "markdown",
   "metadata": {},
   "source": [
    "As we can see, a relatively small vocabulary is enough to cover most of the corpus (and here we are counting raw words, if we did a stemming analysis of this vocabulary the amount of words should be quite smaller).\n",
    "In addition to this observation, we need to bear in mind that in practically every language there are certain words which are constantly used, and therefore their frequency eclipses the rest of words. These are called **stop words**, as in most of analysis they are skipped, due to the lack of information/value the add (in contrast to other words like nouns, verbs or adjectives do). Let's take a a quick look at them."
   ]
  },
  {
   "cell_type": "code",
   "execution_count": 9,
   "metadata": {},
   "outputs": [
    {
     "name": "stdout",
     "output_type": "stream",
     "text": [
      "List of the default 127 stop words in NLTK library (English):\n",
      "['i', 'me', 'my', 'myself', 'we', 'our', 'ours', 'ourselves', 'you', 'your', 'yours', 'yourself', 'yourselves', 'he', 'him', 'his', 'himself', 'she', 'her', 'hers', 'herself', 'it', 'its', 'itself', 'they', 'them', 'their', 'theirs', 'themselves', 'what', 'which', 'who', 'whom', 'this', 'that', 'these', 'those', 'am', 'is', 'are', 'was', 'were', 'be', 'been', 'being', 'have', 'has', 'had', 'having', 'do', 'does', 'did', 'doing', 'a', 'an', 'the', 'and', 'but', 'if', 'or', 'because', 'as', 'until', 'while', 'of', 'at', 'by', 'for', 'with', 'about', 'against', 'between', 'into', 'through', 'during', 'before', 'after', 'above', 'below', 'to', 'from', 'up', 'down', 'in', 'out', 'on', 'off', 'over', 'under', 'again', 'further', 'then', 'once', 'here', 'there', 'when', 'where', 'why', 'how', 'all', 'any', 'both', 'each', 'few', 'more', 'most', 'other', 'some', 'such', 'no', 'nor', 'not', 'only', 'own', 'same', 'so', 'than', 'too', 'very', 's', 't', 'can', 'will', 'just', 'don', 'should', 'now']\n"
     ]
    },
    {
     "data": {
      "image/png": "[encoded data removed]",
      "text/plain": [
       "<matplotlib.figure.Figure at 0x24234f98>"
      ]
     },
     "metadata": {},
     "output_type": "display_data"
    }
   ],
   "source": [
    "stop_words = stopwords.words('english')\n",
    "def is_stopword(word):\n",
    "    if word in stop_words:\n",
    "        return \"stopword\"\n",
    "    else:\n",
    "        return \"other\"\n",
    "print('List of the default %s stop words in NLTK library (English):' % len(stop_words))\n",
    "print(stop_words)\n",
    "stop_no_stop = pd.DataFrame(list(unigrams.items())[:10], columns=['word', 'count'])\n",
    "stop_no_stop['type'] = [is_stopword(word) for word in stop_no_stop['word']]\n",
    "stop_no_stop = stop_no_stop.groupby('type').sum()\n",
    "plt.pie(stop_no_stop.values, labels=stop_no_stop.index,\n",
    "       autopct='%1.1f%%', )\n",
    "plt.show()"
   ]
  },
  {
   "cell_type": "markdown",
   "metadata": {},
   "source": [
    "Another potential point of interest is the distribution of words according to their lexical category. Here we will clasify them accordingly using **word position tagging**."
   ]
  },
  {
   "cell_type": "code",
   "execution_count": 10,
   "metadata": {},
   "outputs": [
    {
     "data": {
      "image/png": "[encoded data removed]",
      "text/plain": [
       "<matplotlib.figure.Figure at 0xf7dd630>"
      ]
     },
     "metadata": {},
     "output_type": "display_data"
    }
   ],
   "source": [
    "tags = pd.DataFrame(list(postags), columns=['word','pos'])\n",
    "tags['postag'] = tags['pos'].apply(lambda x: x[:2])\n",
    "plt.pie(tags.groupby(['postag'])['pos'].count().values, labels=tags.groupby(['postag'])['pos'].count().index,\n",
    "       autopct='%1.1f%%', )\n",
    "plt.show()"
   ]
  },
  {
   "cell_type": "markdown",
   "metadata": {},
   "source": [
    "From the findings of the 3 graphs above, let's answer to the\n",
    "1. We need a relatively small vocabylary to cover most of the words used.\n",
    "2. Most part of a text is formed by stop words, which will be highly important while building the text predictor, but completely expendable in other NLP tasks (e.g. information retrieval, sentiment analysis...).\n",
    "3. The most common lexical categories in the corpus vocabulary are, in order:\n",
    "  * Nouns (NN)\n",
    "  * Verbs (VB)\n",
    "  * Adjetives (JJ)\n",
    "  * Adverbs (RB)\n",
    "  \n",
    "This was just a brief dive into the data we will be working on during the modelling of our text predictor, but we can find similiar characteristics on most of English texts. "
   ]
  },
  {
   "cell_type": "markdown",
   "metadata": {},
   "source": [
    "# Most common n-grams"
   ]
  },
  {
   "cell_type": "code",
   "execution_count": 6,
   "metadata": {},
   "outputs": [
    {
     "name": "stdout",
     "output_type": "stream",
     "text": [
      "Top 25 unigrams:\n",
      "['the', 'to', 'and', 'a', 'of', 'in', 'i', 'for', 'is', 'that', 'you', 'it', 'on', 'with', 'was', 'my', 'at', 'be', 'this', 'have', 'are', 'as', 'but', 'he', 'we']\n",
      "\n",
      "Top 25 bigrams:\n",
      "[('of', 'the'), ('in', 'the'), ('to', 'the'), ('on', 'the'), ('for', 'the'), ('to', 'be'), ('at', 'the'), ('and', 'the'), ('is', 'a'), ('in', 'a'), ('with', 'the'), ('i', 'have'), ('it', 'is'), ('for', 'a'), ('will', 'be'), ('it', 'was'), ('from', 'the'), ('of', 'a'), ('i', 'was'), ('with', 'a'), ('as', 'a'), ('going', 'to'), ('and', 'i'), ('one', 'of'), ('is', 'the')]\n",
      "\n",
      "Top 25 trigrams:\n",
      "[('one', 'of', 'the'), ('a', 'lot', 'of'), ('thanks', 'for', 'the'), ('going', 'to', 'be'), ('to', 'be', 'a'), ('some', 'of', 'the'), ('as', 'well', 'as'), ('out', 'of', 'the'), ('the', 'end', 'of'), ('i', 'have', 'a'), ('i', 'have', 'to'), ('it', 'was', 'a'), ('i', 'want', 'to'), ('be', 'able', 'to'), ('part', 'of', 'the'), ('thank', 'you', 'for'), ('the', 'first', 'time'), ('i', 'dont', 'know'), ('is', 'going', 'to'), ('i', 'love', 'you'), ('looking', 'forward', 'to'), ('the', 'rest', 'of'), ('there', 'is', 'a'), ('it', 'is', 'a'), ('is', 'one', 'of')]\n"
     ]
    }
   ],
   "source": [
    "print(\"Top 25 unigrams:\")\n",
    "print([ngram[0] for ngram in unigrams.most_common(25)])\n",
    "print(\"\\nTop 25 bigrams:\")\n",
    "print([ngram[0] for ngram in bigrams.most_common(25)])\n",
    "print(\"\\nTop 25 trigrams:\")\n",
    "print([ngram[0] for ngram in trigrams.most_common(25)])"
   ]
  },
  {
   "cell_type": "markdown",
   "metadata": {},
   "source": [
    "As we can see, most of the words contained on those ngrams contains the stop words we mentioned before (which makes all the sense). As a last insight, let's take a look to the most frequent words that are not in the stop word list."
   ]
  },
  {
   "cell_type": "code",
   "execution_count": 22,
   "metadata": {},
   "outputs": [
    {
     "name": "stdout",
     "output_type": "stream",
     "text": [
      "1 : said (60993 times)\n",
      "2 : one (57919 times)\n",
      "3 : like (54294 times)\n",
      "4 : im (49324 times)\n",
      "5 : get (45136 times)\n",
      "6 : time (42825 times)\n",
      "7 : would (40837 times)\n",
      "8 : new (38687 times)\n",
      "9 : good (35763 times)\n",
      "10 : dont (35339 times)\n",
      "11 : day (33993 times)\n",
      "12 : know (32570 times)\n",
      "13 : love (32317 times)\n",
      "14 : people (31702 times)\n",
      "15 : us (29501 times)\n",
      "16 : back (28286 times)\n",
      "17 : go (28180 times)\n",
      "18 : see (27765 times)\n",
      "19 : first (26641 times)\n",
      "20 : make (26040 times)\n",
      "21 : also (25850 times)\n",
      "22 : going (25420 times)\n",
      "23 : think (25153 times)\n",
      "24 : last (24913 times)\n",
      "25 : well (24635 times)\n"
     ]
    }
   ],
   "source": [
    "filtered_vocabulary = [word for word in word_frequency if word[0] not in stop_words][:25]\n",
    "for i, w in enumerate(filtered_vocabulary, 1):\n",
    "    print(\"%s : %s (%s times)\" % (i, w[0], w[1]))"
   ]
  }
 ],
 "metadata": {
  "kernelspec": {
   "display_name": "Python 3",
   "language": "python",
   "name": "python3"
  },
  "language_info": {
   "codemirror_mode": {
    "name": "ipython",
    "version": 3
   },
   "file_extension": ".py",
   "mimetype": "text/x-python",
   "name": "python",
   "nbconvert_exporter": "python",
   "pygments_lexer": "ipython3",
   "version": "3.6.2"
  }
 },
 "nbformat": 4,
 "nbformat_minor": 2
}
