{
 "cells": [
  {
   "cell_type": "code",
   "execution_count": 11,
   "metadata": {},
   "outputs": [],
   "source": [
    "with open(r'../en_US/en_us.blogs.txt', 'r', encoding='utf8') as f:\n",
    "    blogs = f.readlines()\n",
    "with open(r'../en_US/en_us.news.txt', 'r', encoding='utf8') as f:\n",
    "    news = f.readlines()\n",
    "with open(r'../en_US/en_us.twitter.txt', 'r', encoding='utf8') as f:\n",
    "    twitter = f.readlines()"
   ]
  },
  {
   "cell_type": "code",
   "execution_count": 18,
   "metadata": {},
   "outputs": [
    {
     "name": "stdout",
     "output_type": "stream",
     "text": [
      "899288\n",
      "1010242\n",
      "2360148\n"
     ]
    }
   ],
   "source": [
    "print(len(blogs))\n",
    "print(len(news))\n",
    "print(len(twitter))"
   ]
  },
  {
   "cell_type": "code",
   "execution_count": 16,
   "metadata": {},
   "outputs": [
    {
     "name": "stdout",
     "output_type": "stream",
     "text": [
      "40834\n",
      "11385\n",
      "141\n"
     ]
    }
   ],
   "source": [
    "print(max([len(x) for x in blogs]))\n",
    "print(max([len(x) for x in news]))\n",
    "print(max([len(x) for x in twitter]))"
   ]
  },
  {
   "cell_type": "code",
   "execution_count": 13,
   "metadata": {},
   "outputs": [
    {
     "data": {
      "text/plain": [
       "4.108591562020056"
      ]
     },
     "execution_count": 13,
     "metadata": {},
     "output_type": "execute_result"
    }
   ],
   "source": [
    "len([x for x in twitter if \"love\" in x])/len([x for x in twitter if \"hate\" in x])"
   ]
  },
  {
   "cell_type": "code",
   "execution_count": 14,
   "metadata": {},
   "outputs": [
    {
     "data": {
      "text/plain": [
       "['i know how you feel.. i have biostats on tuesday and i have yet to study =/\\n']"
      ]
     },
     "execution_count": 14,
     "metadata": {},
     "output_type": "execute_result"
    }
   ],
   "source": [
    "[x for x in twitter if \"biostats\" in x]"
   ]
  },
  {
   "cell_type": "code",
   "execution_count": 15,
   "metadata": {},
   "outputs": [
    {
     "data": {
      "text/plain": [
       "['A computer once beat me at chess, but it was no match for me at kickboxing\\n',\n",
       " 'A computer once beat me at chess, but it was no match for me at kickboxing\\n',\n",
       " 'A computer once beat me at chess, but it was no match for me at kickboxing\\n']"
      ]
     },
     "execution_count": 15,
     "metadata": {},
     "output_type": "execute_result"
    }
   ],
   "source": [
    "[x for x in twitter if \"A computer once beat me at chess, but it was no match for me at kickboxing\" in x]"
   ]
  }
 ],
 "metadata": {
  "kernelspec": {
   "display_name": "Python 3",
   "language": "python",
   "name": "python3"
  },
  "language_info": {
   "codemirror_mode": {
    "name": "ipython",
    "version": 3
   },
   "file_extension": ".py",
   "mimetype": "text/x-python",
   "name": "python",
   "nbconvert_exporter": "python",
   "pygments_lexer": "ipython3",
   "version": "3.6.2"
  }
 },
 "nbformat": 4,
 "nbformat_minor": 2
}
